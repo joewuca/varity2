{
 "cells": [
  {
   "cell_type": "code",
   "execution_count": 6,
   "metadata": {},
   "outputs": [
    {
     "data": {
      "text/html": [
       "\n",
       "<div id='iXFTASCRLV60APOS9CP7L'>\n",
       "<div style='color: #900; text-align: center;'>\n",
       "  <b>Visualization omitted, Javascript library not loaded!</b><br>\n",
       "  Have you run `initjs()` in this notebook? If this notebook was from another\n",
       "  user you must also trust this notebook (File -> Trust notebook). If you are viewing\n",
       "  this notebook on github the Javascript has been stripped for security. If you are using\n",
       "  JupyterLab this error is because a JupyterLab extension has not yet been written.\n",
       "</div></div>\n",
       " <script>\n",
       "   if (window.SHAP) SHAP.ReactDom.render(\n",
       "    SHAP.React.createElement(SHAP.AdditiveForceVisualizer, {\"outNames\": [\"output value\"], \"baseValue\": -0.01038268581032753, \"outValue\": -2.3305439949035645, \"link\": \"identity\", \"featureNames\": [\"blosum100\", \"in_domain\", \"asa_mean\", \"aa_psipred_E\", \"aa_psipred_H\", \"aa_psipred_C\", \"bsa_max\", \"h_bond_max\", \"salt_bridge_max\", \"disulfide_bond_max\", \"covelent_bond_max\", \"solv_ne_min\", \"mw_delta\", \"pka_delta\", \"pkb_delta\", \"pi_delta\", \"hi_delta\", \"pbr_delta\", \"avbr_delta\", \"vadw_delta\", \"asa_delta\", \"cyclic_delta\", \"charge_delta\", \"positive_delta\", \"negative_delta\", \"hydrophobic_delta\", \"polar_delta\", \"ionizable_delta\", \"aromatic_delta\", \"aliphatic_delta\", \"hbond_delta\", \"sulfur_delta\", \"essential_delta\", \"size_delta\", \"PROVEAN_selected_score\", \"SIFT_selected_score\", \"evm_epistatic_score\", \"Eigen-raw_coding\", \"integrated_fitCons_score\", \"LRT_score\", \"GERP++_RS\", \"phyloP30way_mammalian\", \"phastCons30way_mammalian\", \"SiPhy_29way_logOdds\"], \"features\": {\"0\": {\"effect\": -0.016817722469568253, \"value\": -0.6754}, \"1\": {\"effect\": 0.028220277279615402, \"value\": 1.0}, \"2\": {\"effect\": -0.1190616562962532, \"value\": NaN}, \"3\": {\"effect\": -0.004270736128091812, \"value\": 0.0}, \"4\": {\"effect\": -0.006515852641314268, \"value\": 0.0}, \"5\": {\"effect\": -0.014703326858580112, \"value\": 1.0}, \"6\": {\"effect\": -0.0587279237806797, \"value\": NaN}, \"7\": {\"effect\": -0.018014924600720406, \"value\": NaN}, \"8\": {\"effect\": -0.004423259757459164, \"value\": NaN}, \"10\": {\"effect\": -0.0014599949354305863, \"value\": NaN}, \"11\": {\"effect\": -0.024191441014409065, \"value\": NaN}, \"12\": {\"effect\": -0.039389468729496, \"value\": -30.02000000000001}, \"13\": {\"effect\": 0.005905551370233297, \"value\": 0.1299999999999999}, \"14\": {\"effect\": -0.01571684330701828, \"value\": 0.4499999999999993}, \"15\": {\"effect\": -0.03141671046614647, \"value\": 0.29000000000000004}, \"16\": {\"effect\": -0.033646244555711746, \"value\": 0.4}, \"17\": {\"effect\": 0.019672447815537453, \"value\": 13.0}, \"18\": {\"effect\": -0.008204557001590729, \"value\": -33.0}, \"19\": {\"effect\": -0.0023323646746575832, \"value\": -25.0}, \"20\": {\"effect\": 0.022376758977770805, \"value\": -80.0}, \"21\": {\"effect\": -0.021186234429478645, \"value\": 0.0}, \"22\": {\"effect\": -0.0006127802771516144, \"value\": 0.0}, \"23\": {\"effect\": -0.00025163491955026984, \"value\": 0.0}, \"24\": {\"effect\": 5.873015470569953e-05, \"value\": 0.0}, \"25\": {\"effect\": 0.0046267155557870865, \"value\": 0.0}, \"26\": {\"effect\": 0.002331323456019163, \"value\": -1.0}, \"27\": {\"effect\": -0.00306971394456923, \"value\": 0.0}, \"28\": {\"effect\": 0.0013112727319821715, \"value\": 0.0}, \"29\": {\"effect\": -0.017279820516705513, \"value\": 1.0}, \"30\": {\"effect\": -0.00013723930169362575, \"value\": -1.0}, \"31\": {\"effect\": -0.05082697793841362, \"value\": 0.0}, \"32\": {\"effect\": -0.0016309465281665325, \"value\": 0.0}, \"33\": {\"effect\": 0.006892891135066748, \"value\": 0.0}, \"34\": {\"effect\": -0.6240862011909485, \"value\": NaN}, \"35\": {\"effect\": 0.5227979421615601, \"value\": NaN}, \"36\": {\"effect\": -0.4572207033634186, \"value\": NaN}, \"37\": {\"effect\": -0.7816710472106934, \"value\": 0.109867005814623}, \"38\": {\"effect\": -0.06146952882409096, \"value\": 0.646311}, \"39\": {\"effect\": -0.3810252547264099, \"value\": 0.001454}, \"40\": {\"effect\": -0.04806458577513695, \"value\": 4.92}, \"41\": {\"effect\": -0.02489427849650383, \"value\": 1.176}, \"42\": {\"effect\": -0.09923208504915237, \"value\": 0.937}, \"43\": {\"effect\": 0.037196893244981766, \"value\": 11.998}}, \"plot_cmap\": \"RdBu\", \"labelMargin\": 20}),\n",
       "    document.getElementById('iXFTASCRLV60APOS9CP7L')\n",
       "  );\n",
       "</script>"
      ],
      "text/plain": [
       "<IPython.core.display.HTML object>"
      ]
     },
     "metadata": {},
     "output_type": "display_data"
    }
   ],
   "source": [
    "from IPython.core.display import display, HTML \n",
    "initjs()\n",
    "shap_html_file ='/usr/local/projects/manuscript/funregressor/output/img/shap1.html'\n",
    "f = open(shap_html_file,\"r\")\n",
    "shap_html = f.read()\n",
    "display(HTML(shap_html))"
   ]
  },
  {
   "cell_type": "code",
   "execution_count": null,
   "metadata": {},
   "outputs": [],
   "source": []
  }
 ],
 "metadata": {
  "kernelspec": {
   "display_name": "Python 3",
   "language": "python",
   "name": "python3"
  },
  "language_info": {
   "codemirror_mode": {
    "name": "ipython",
    "version": 3
   },
   "file_extension": ".py",
   "mimetype": "text/x-python",
   "name": "python",
   "nbconvert_exporter": "python",
   "pygments_lexer": "ipython3",
   "version": "3.6.5"
  }
 },
 "nbformat": 4,
 "nbformat_minor": 2
}
